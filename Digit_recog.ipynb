{
  "nbformat": 4,
  "nbformat_minor": 0,
  "metadata": {
    "colab": {
      "name": "Digit_recog.ipynb",
      "provenance": [],
      "collapsed_sections": [],
      "toc_visible": true,
      "authorship_tag": "ABX9TyMemO0VzjDXrwUALwhDNegg",
      "include_colab_link": true
    },
    "kernelspec": {
      "name": "python3",
      "display_name": "Python 3"
    },
    "language_info": {
      "name": "python"
    },
    "accelerator": "GPU"
  },
  "cells": [
    {
      "cell_type": "markdown",
      "metadata": {
        "id": "view-in-github",
        "colab_type": "text"
      },
      "source": [
        "<a href=\"https://colab.research.google.com/github/krishnamishra2610/Deep-Learning/blob/main/Digit_recog.ipynb\" target=\"_parent\"><img src=\"https://colab.research.google.com/assets/colab-badge.svg\" alt=\"Open In Colab\"/></a>"
      ]
    },
    {
      "cell_type": "code",
      "metadata": {
        "id": "Y5xTg9DqeNU1"
      },
      "source": [
        "import numpy\n",
        "import matplotlib.pyplot as plt\n",
        "import tensorflow as tf\n",
        "from tensorflow import keras"
      ],
      "execution_count": 1,
      "outputs": []
    },
    {
      "cell_type": "code",
      "metadata": {
        "colab": {
          "base_uri": "https://localhost:8080/"
        },
        "id": "le8MOgUDehUk",
        "outputId": "7e25ccc3-db7b-4b03-bfc4-29f443391cf1"
      },
      "source": [
        "!pip install keras-tuner"
      ],
      "execution_count": 2,
      "outputs": [
        {
          "output_type": "stream",
          "name": "stdout",
          "text": [
            "Collecting keras-tuner\n",
            "  Downloading keras_tuner-1.0.4-py3-none-any.whl (97 kB)\n",
            "\u001b[?25l\r\u001b[K     |███▍                            | 10 kB 19.0 MB/s eta 0:00:01\r\u001b[K     |██████▊                         | 20 kB 23.0 MB/s eta 0:00:01\r\u001b[K     |██████████                      | 30 kB 13.0 MB/s eta 0:00:01\r\u001b[K     |█████████████▍                  | 40 kB 9.7 MB/s eta 0:00:01\r\u001b[K     |████████████████▊               | 51 kB 5.1 MB/s eta 0:00:01\r\u001b[K     |████████████████████            | 61 kB 5.4 MB/s eta 0:00:01\r\u001b[K     |███████████████████████▍        | 71 kB 6.0 MB/s eta 0:00:01\r\u001b[K     |██████████████████████████▊     | 81 kB 6.7 MB/s eta 0:00:01\r\u001b[K     |██████████████████████████████▏ | 92 kB 6.5 MB/s eta 0:00:01\r\u001b[K     |████████████████████████████████| 97 kB 3.8 MB/s \n",
            "\u001b[?25hRequirement already satisfied: packaging in /usr/local/lib/python3.7/dist-packages (from keras-tuner) (21.0)\n",
            "Requirement already satisfied: tensorboard in /usr/local/lib/python3.7/dist-packages (from keras-tuner) (2.6.0)\n",
            "Requirement already satisfied: scipy in /usr/local/lib/python3.7/dist-packages (from keras-tuner) (1.4.1)\n",
            "Requirement already satisfied: numpy in /usr/local/lib/python3.7/dist-packages (from keras-tuner) (1.19.5)\n",
            "Collecting kt-legacy\n",
            "  Downloading kt_legacy-1.0.4-py3-none-any.whl (9.6 kB)\n",
            "Requirement already satisfied: ipython in /usr/local/lib/python3.7/dist-packages (from keras-tuner) (5.5.0)\n",
            "Requirement already satisfied: requests in /usr/local/lib/python3.7/dist-packages (from keras-tuner) (2.23.0)\n",
            "Requirement already satisfied: setuptools>=18.5 in /usr/local/lib/python3.7/dist-packages (from ipython->keras-tuner) (57.4.0)\n",
            "Requirement already satisfied: pexpect in /usr/local/lib/python3.7/dist-packages (from ipython->keras-tuner) (4.8.0)\n",
            "Requirement already satisfied: pygments in /usr/local/lib/python3.7/dist-packages (from ipython->keras-tuner) (2.6.1)\n",
            "Requirement already satisfied: traitlets>=4.2 in /usr/local/lib/python3.7/dist-packages (from ipython->keras-tuner) (5.1.0)\n",
            "Requirement already satisfied: prompt-toolkit<2.0.0,>=1.0.4 in /usr/local/lib/python3.7/dist-packages (from ipython->keras-tuner) (1.0.18)\n",
            "Requirement already satisfied: simplegeneric>0.8 in /usr/local/lib/python3.7/dist-packages (from ipython->keras-tuner) (0.8.1)\n",
            "Requirement already satisfied: pickleshare in /usr/local/lib/python3.7/dist-packages (from ipython->keras-tuner) (0.7.5)\n",
            "Requirement already satisfied: decorator in /usr/local/lib/python3.7/dist-packages (from ipython->keras-tuner) (4.4.2)\n",
            "Requirement already satisfied: wcwidth in /usr/local/lib/python3.7/dist-packages (from prompt-toolkit<2.0.0,>=1.0.4->ipython->keras-tuner) (0.2.5)\n",
            "Requirement already satisfied: six>=1.9.0 in /usr/local/lib/python3.7/dist-packages (from prompt-toolkit<2.0.0,>=1.0.4->ipython->keras-tuner) (1.15.0)\n",
            "Requirement already satisfied: pyparsing>=2.0.2 in /usr/local/lib/python3.7/dist-packages (from packaging->keras-tuner) (2.4.7)\n",
            "Requirement already satisfied: ptyprocess>=0.5 in /usr/local/lib/python3.7/dist-packages (from pexpect->ipython->keras-tuner) (0.7.0)\n",
            "Requirement already satisfied: idna<3,>=2.5 in /usr/local/lib/python3.7/dist-packages (from requests->keras-tuner) (2.10)\n",
            "Requirement already satisfied: urllib3!=1.25.0,!=1.25.1,<1.26,>=1.21.1 in /usr/local/lib/python3.7/dist-packages (from requests->keras-tuner) (1.24.3)\n",
            "Requirement already satisfied: chardet<4,>=3.0.2 in /usr/local/lib/python3.7/dist-packages (from requests->keras-tuner) (3.0.4)\n",
            "Requirement already satisfied: certifi>=2017.4.17 in /usr/local/lib/python3.7/dist-packages (from requests->keras-tuner) (2021.5.30)\n",
            "Requirement already satisfied: werkzeug>=0.11.15 in /usr/local/lib/python3.7/dist-packages (from tensorboard->keras-tuner) (1.0.1)\n",
            "Requirement already satisfied: wheel>=0.26 in /usr/local/lib/python3.7/dist-packages (from tensorboard->keras-tuner) (0.37.0)\n",
            "Requirement already satisfied: google-auth-oauthlib<0.5,>=0.4.1 in /usr/local/lib/python3.7/dist-packages (from tensorboard->keras-tuner) (0.4.6)\n",
            "Requirement already satisfied: tensorboard-data-server<0.7.0,>=0.6.0 in /usr/local/lib/python3.7/dist-packages (from tensorboard->keras-tuner) (0.6.1)\n",
            "Requirement already satisfied: markdown>=2.6.8 in /usr/local/lib/python3.7/dist-packages (from tensorboard->keras-tuner) (3.3.4)\n",
            "Requirement already satisfied: grpcio>=1.24.3 in /usr/local/lib/python3.7/dist-packages (from tensorboard->keras-tuner) (1.40.0)\n",
            "Requirement already satisfied: google-auth<2,>=1.6.3 in /usr/local/lib/python3.7/dist-packages (from tensorboard->keras-tuner) (1.35.0)\n",
            "Requirement already satisfied: tensorboard-plugin-wit>=1.6.0 in /usr/local/lib/python3.7/dist-packages (from tensorboard->keras-tuner) (1.8.0)\n",
            "Requirement already satisfied: protobuf>=3.6.0 in /usr/local/lib/python3.7/dist-packages (from tensorboard->keras-tuner) (3.17.3)\n",
            "Requirement already satisfied: absl-py>=0.4 in /usr/local/lib/python3.7/dist-packages (from tensorboard->keras-tuner) (0.12.0)\n",
            "Requirement already satisfied: cachetools<5.0,>=2.0.0 in /usr/local/lib/python3.7/dist-packages (from google-auth<2,>=1.6.3->tensorboard->keras-tuner) (4.2.2)\n",
            "Requirement already satisfied: pyasn1-modules>=0.2.1 in /usr/local/lib/python3.7/dist-packages (from google-auth<2,>=1.6.3->tensorboard->keras-tuner) (0.2.8)\n",
            "Requirement already satisfied: rsa<5,>=3.1.4 in /usr/local/lib/python3.7/dist-packages (from google-auth<2,>=1.6.3->tensorboard->keras-tuner) (4.7.2)\n",
            "Requirement already satisfied: requests-oauthlib>=0.7.0 in /usr/local/lib/python3.7/dist-packages (from google-auth-oauthlib<0.5,>=0.4.1->tensorboard->keras-tuner) (1.3.0)\n",
            "Requirement already satisfied: importlib-metadata in /usr/local/lib/python3.7/dist-packages (from markdown>=2.6.8->tensorboard->keras-tuner) (4.8.1)\n",
            "Requirement already satisfied: pyasn1<0.5.0,>=0.4.6 in /usr/local/lib/python3.7/dist-packages (from pyasn1-modules>=0.2.1->google-auth<2,>=1.6.3->tensorboard->keras-tuner) (0.4.8)\n",
            "Requirement already satisfied: oauthlib>=3.0.0 in /usr/local/lib/python3.7/dist-packages (from requests-oauthlib>=0.7.0->google-auth-oauthlib<0.5,>=0.4.1->tensorboard->keras-tuner) (3.1.1)\n",
            "Requirement already satisfied: typing-extensions>=3.6.4 in /usr/local/lib/python3.7/dist-packages (from importlib-metadata->markdown>=2.6.8->tensorboard->keras-tuner) (3.7.4.3)\n",
            "Requirement already satisfied: zipp>=0.5 in /usr/local/lib/python3.7/dist-packages (from importlib-metadata->markdown>=2.6.8->tensorboard->keras-tuner) (3.5.0)\n",
            "Installing collected packages: kt-legacy, keras-tuner\n",
            "Successfully installed keras-tuner-1.0.4 kt-legacy-1.0.4\n"
          ]
        }
      ]
    },
    {
      "cell_type": "code",
      "metadata": {
        "colab": {
          "base_uri": "https://localhost:8080/"
        },
        "id": "7sWLik1Yep_1",
        "outputId": "30d0b1a0-6366-42e4-efd4-377aff3d6451"
      },
      "source": [
        "(X_train,y_train),(X_test,y_test) = keras.datasets.mnist.load_data()"
      ],
      "execution_count": 3,
      "outputs": [
        {
          "output_type": "stream",
          "name": "stdout",
          "text": [
            "Downloading data from https://storage.googleapis.com/tensorflow/tf-keras-datasets/mnist.npz\n",
            "11493376/11490434 [==============================] - 0s 0us/step\n",
            "11501568/11490434 [==============================] - 0s 0us/step\n"
          ]
        }
      ]
    },
    {
      "cell_type": "code",
      "metadata": {
        "colab": {
          "base_uri": "https://localhost:8080/"
        },
        "id": "7FfcvrzufG0i",
        "outputId": "0bb529eb-e933-4557-fec2-ce5f23a4361e"
      },
      "source": [
        "X_train.shape"
      ],
      "execution_count": 4,
      "outputs": [
        {
          "output_type": "execute_result",
          "data": {
            "text/plain": [
              "(60000, 28, 28)"
            ]
          },
          "metadata": {},
          "execution_count": 4
        }
      ]
    },
    {
      "cell_type": "markdown",
      "metadata": {
        "id": "kiiGft_kfdYp"
      },
      "source": [
        "## Scaling"
      ]
    },
    {
      "cell_type": "code",
      "metadata": {
        "id": "3K9H0-sIfgOo"
      },
      "source": [
        "X_train = X_train/255.0\n",
        "X_test = X_test/255.0"
      ],
      "execution_count": 5,
      "outputs": []
    },
    {
      "cell_type": "code",
      "metadata": {
        "id": "LYKNweh7fvp-"
      },
      "source": [
        "##reshape\n",
        "\n",
        "X_train = X_train.reshape(len(X_train),28,28,1)\n",
        "X_test = X_test.reshape(len(X_test),28,28,1)"
      ],
      "execution_count": 6,
      "outputs": []
    },
    {
      "cell_type": "code",
      "metadata": {
        "id": "NFgMnJrLgK7_"
      },
      "source": [
        "## defining the function to build model\n",
        "\n",
        "def build_model(hp):\n",
        "  model = keras.Sequential([\n",
        "                            #1st conv layer\n",
        "                            keras.layers.Conv2D(\n",
        "                                filters = hp.Int(\"conv1_filter\",min_value=32,max_value=128,step=16),\n",
        "                                 kernel_size = hp.Choice(\"conv1_kernal\",values=[2,4,8]),\n",
        "                                 activation=\"relu\",\n",
        "                                 input_shape=(28,28,1)\n",
        "                                 ),\n",
        "                            keras.layers.MaxPool2D(\n",
        "                                pool_size = 2\n",
        "                            ),\n",
        "\n",
        "                            #2nd conv layer\n",
        "                                  keras.layers.Conv2D(\n",
        "                                filters = hp.Int(\"conv2_filter\",min_value=32,max_value=128,step=16),\n",
        "                                 kernel_size = hp.Choice(\"conv2_kernal\",values=[2,4,8]),\n",
        "                                 activation=\"relu\",\n",
        "                                 ),\n",
        "                            keras.layers.MaxPool2D(\n",
        "                                pool_size = 2\n",
        "                            ),\n",
        "\n",
        "                            #fully connected layer\n",
        "                            keras.layers.Flatten(),\n",
        "                            keras.layers.Dense(\n",
        "                                units = hp.Int(\"dense_unit\",min_value=32,max_value=1024,step=32),\n",
        "                                activation = 'relu'\n",
        "                            ),\n",
        "\n",
        "                            #output layer\n",
        "                            keras.layers.Dense(10,activation=\"softmax\")\n",
        "\n",
        "  ]) \n",
        "  model.compile(optimizer=keras.optimizers.Adam(hp.Choice(\"learning_rate\",values=[1e-2,1e-3,1e-4])),\n",
        "                loss=\"sparse_categorical_crossentropy\",\n",
        "                metrics=['accuracy'])\n",
        "  return model"
      ],
      "execution_count": 26,
      "outputs": []
    },
    {
      "cell_type": "code",
      "metadata": {
        "id": "r2TqBVJJk1AK"
      },
      "source": [
        "from keras_tuner import RandomSearch\n",
        "from keras_tuner.engine.hyperparameters import HyperParameters"
      ],
      "execution_count": 27,
      "outputs": []
    },
    {
      "cell_type": "code",
      "metadata": {
        "colab": {
          "base_uri": "https://localhost:8080/"
        },
        "id": "B7fghXHnlbcJ",
        "outputId": "a4619c6f-6af0-4f85-c1c0-c667fc36cc83"
      },
      "source": [
        "tuner_search = RandomSearch(build_model,objective=\"accuracy\",max_trials=3,directory=\"output2\",project_name=\"digit_recognization\")"
      ],
      "execution_count": 28,
      "outputs": [
        {
          "output_type": "stream",
          "name": "stdout",
          "text": [
            "INFO:tensorflow:Reloading Oracle from existing project output2/digit_recognization/oracle.json\n",
            "INFO:tensorflow:Reloading Tuner from output2/digit_recognization/tuner0.json\n"
          ]
        }
      ]
    },
    {
      "cell_type": "code",
      "metadata": {
        "colab": {
          "base_uri": "https://localhost:8080/"
        },
        "id": "7D9ZacSImLom",
        "outputId": "e95e4497-f7a4-4e4e-c0cc-f68ae0d34f82"
      },
      "source": [
        "tuner_search.search(X_train,y_train,epochs=2)"
      ],
      "execution_count": 29,
      "outputs": [
        {
          "output_type": "stream",
          "name": "stdout",
          "text": [
            "Trial 1 Complete [00h 00m 25s]\n",
            "accuracy: 0.9750166535377502\n",
            "\n",
            "Best accuracy So Far: 0.9750166535377502\n",
            "Total elapsed time: 00h 00m 25s\n",
            "INFO:tensorflow:Oracle triggered exit\n"
          ]
        }
      ]
    },
    {
      "cell_type": "code",
      "metadata": {
        "id": "kUio60lhmsJB"
      },
      "source": [
        "model = tuner_search.get_best_models(1)[0]"
      ],
      "execution_count": 30,
      "outputs": []
    },
    {
      "cell_type": "code",
      "metadata": {
        "colab": {
          "base_uri": "https://localhost:8080/"
        },
        "id": "y3jbZXU2pVug",
        "outputId": "bbff3965-8f51-4c96-a38a-65da741e225d"
      },
      "source": [
        "model.summary()"
      ],
      "execution_count": 31,
      "outputs": [
        {
          "output_type": "stream",
          "name": "stdout",
          "text": [
            "Model: \"sequential\"\n",
            "_________________________________________________________________\n",
            "Layer (type)                 Output Shape              Param #   \n",
            "=================================================================\n",
            "conv2d (Conv2D)              (None, 21, 21, 112)       7280      \n",
            "_________________________________________________________________\n",
            "max_pooling2d (MaxPooling2D) (None, 10, 10, 112)       0         \n",
            "_________________________________________________________________\n",
            "conv2d_1 (Conv2D)            (None, 7, 7, 128)         229504    \n",
            "_________________________________________________________________\n",
            "max_pooling2d_1 (MaxPooling2 (None, 3, 3, 128)         0         \n",
            "_________________________________________________________________\n",
            "flatten (Flatten)            (None, 1152)              0         \n",
            "_________________________________________________________________\n",
            "dense (Dense)                (None, 256)               295168    \n",
            "_________________________________________________________________\n",
            "dense_1 (Dense)              (None, 10)                2570      \n",
            "=================================================================\n",
            "Total params: 534,522\n",
            "Trainable params: 534,522\n",
            "Non-trainable params: 0\n",
            "_________________________________________________________________\n"
          ]
        }
      ]
    },
    {
      "cell_type": "code",
      "metadata": {
        "colab": {
          "base_uri": "https://localhost:8080/"
        },
        "id": "FltS2knopYLZ",
        "outputId": "334c930e-c628-4c84-8012-f931ce2b4f0d"
      },
      "source": [
        "model.fit(X_train,y_train,epochs=20,validation_split=0.1,initial_epoch=2)"
      ],
      "execution_count": 32,
      "outputs": [
        {
          "output_type": "stream",
          "name": "stdout",
          "text": [
            "Epoch 3/20\n",
            "1688/1688 [==============================] - 13s 7ms/step - loss: 0.0595 - accuracy: 0.9817 - val_loss: 0.0528 - val_accuracy: 0.9850\n",
            "Epoch 4/20\n",
            "1688/1688 [==============================] - 12s 7ms/step - loss: 0.0468 - accuracy: 0.9853 - val_loss: 0.0411 - val_accuracy: 0.9880\n",
            "Epoch 5/20\n",
            "1688/1688 [==============================] - 12s 7ms/step - loss: 0.0387 - accuracy: 0.9881 - val_loss: 0.0440 - val_accuracy: 0.9862\n",
            "Epoch 6/20\n",
            "1688/1688 [==============================] - 12s 7ms/step - loss: 0.0313 - accuracy: 0.9903 - val_loss: 0.0380 - val_accuracy: 0.9888\n",
            "Epoch 7/20\n",
            "1688/1688 [==============================] - 12s 7ms/step - loss: 0.0265 - accuracy: 0.9921 - val_loss: 0.0322 - val_accuracy: 0.9910\n",
            "Epoch 8/20\n",
            "1688/1688 [==============================] - 12s 7ms/step - loss: 0.0224 - accuracy: 0.9929 - val_loss: 0.0344 - val_accuracy: 0.9915\n",
            "Epoch 9/20\n",
            "1688/1688 [==============================] - 12s 7ms/step - loss: 0.0183 - accuracy: 0.9944 - val_loss: 0.0362 - val_accuracy: 0.9892\n",
            "Epoch 10/20\n",
            "1688/1688 [==============================] - 12s 7ms/step - loss: 0.0162 - accuracy: 0.9950 - val_loss: 0.0338 - val_accuracy: 0.9903\n",
            "Epoch 11/20\n",
            "1688/1688 [==============================] - 12s 7ms/step - loss: 0.0137 - accuracy: 0.9958 - val_loss: 0.0378 - val_accuracy: 0.9910\n",
            "Epoch 12/20\n",
            "1688/1688 [==============================] - 12s 7ms/step - loss: 0.0116 - accuracy: 0.9964 - val_loss: 0.0345 - val_accuracy: 0.9918\n",
            "Epoch 13/20\n",
            "1688/1688 [==============================] - 12s 7ms/step - loss: 0.0102 - accuracy: 0.9970 - val_loss: 0.0326 - val_accuracy: 0.9912\n",
            "Epoch 14/20\n",
            "1688/1688 [==============================] - 12s 7ms/step - loss: 0.0086 - accuracy: 0.9973 - val_loss: 0.0316 - val_accuracy: 0.9925\n",
            "Epoch 15/20\n",
            "1688/1688 [==============================] - 12s 7ms/step - loss: 0.0079 - accuracy: 0.9975 - val_loss: 0.0355 - val_accuracy: 0.9915\n",
            "Epoch 16/20\n",
            "1688/1688 [==============================] - 12s 7ms/step - loss: 0.0063 - accuracy: 0.9981 - val_loss: 0.0376 - val_accuracy: 0.9913\n",
            "Epoch 17/20\n",
            "1688/1688 [==============================] - 12s 7ms/step - loss: 0.0067 - accuracy: 0.9978 - val_loss: 0.0387 - val_accuracy: 0.9915\n",
            "Epoch 18/20\n",
            "1688/1688 [==============================] - 12s 7ms/step - loss: 0.0048 - accuracy: 0.9985 - val_loss: 0.0370 - val_accuracy: 0.9917\n",
            "Epoch 19/20\n",
            "1688/1688 [==============================] - 12s 7ms/step - loss: 0.0058 - accuracy: 0.9981 - val_loss: 0.0341 - val_accuracy: 0.9910\n",
            "Epoch 20/20\n",
            "1688/1688 [==============================] - 12s 7ms/step - loss: 0.0040 - accuracy: 0.9987 - val_loss: 0.0343 - val_accuracy: 0.9927\n"
          ]
        },
        {
          "output_type": "execute_result",
          "data": {
            "text/plain": [
              "<keras.callbacks.History at 0x7fab600b7110>"
            ]
          },
          "metadata": {},
          "execution_count": 32
        }
      ]
    },
    {
      "cell_type": "code",
      "metadata": {
        "colab": {
          "base_uri": "https://localhost:8080/",
          "height": 292
        },
        "id": "Zy4mwy9WsroS",
        "outputId": "41dae1bb-bdf1-4580-b908-f0febe7af242"
      },
      "source": [
        "plt.matshow(X_test[[500]].reshape(28,28))"
      ],
      "execution_count": 55,
      "outputs": [
        {
          "output_type": "execute_result",
          "data": {
            "text/plain": [
              "<matplotlib.image.AxesImage at 0x7faa77cd9d90>"
            ]
          },
          "metadata": {},
          "execution_count": 55
        },
        {
          "output_type": "display_data",
          "data": {
            "image/png": "[encoded data removed]",
            "text/plain": [
              "<Figure size 288x288 with 1 Axes>"
            ]
          },
          "metadata": {
            "needs_background": "light"
          }
        }
      ]
    },
    {
      "cell_type": "code",
      "metadata": {
        "colab": {
          "base_uri": "https://localhost:8080/"
        },
        "id": "tOs5LbsMp0tm",
        "outputId": "0994d653-dd7d-452e-d56b-2397c14dc8ae"
      },
      "source": [
        "model.predict(X_test[[500]])"
      ],
      "execution_count": 54,
      "outputs": [
        {
          "output_type": "execute_result",
          "data": {
            "text/plain": [
              "array([[2.7288606e-21, 7.7269251e-17, 2.7905027e-16, 1.0000000e+00,\n",
              "        2.5527122e-23, 5.6562730e-15, 9.4842508e-25, 1.0164997e-15,\n",
              "        1.3879025e-14, 2.6229840e-13]], dtype=float32)"
            ]
          },
          "metadata": {},
          "execution_count": 54
        }
      ]
    },
    {
      "cell_type": "code",
      "metadata": {
        "colab": {
          "base_uri": "https://localhost:8080/"
        },
        "id": "gFrpTO_Cq_5e",
        "outputId": "b6d1d345-cbb4-40b2-9d86-90874a213421"
      },
      "source": [
        "numpy.argmax(model.predict(X_test[[500]]))"
      ],
      "execution_count": 53,
      "outputs": [
        {
          "output_type": "execute_result",
          "data": {
            "text/plain": [
              "3"
            ]
          },
          "metadata": {},
          "execution_count": 53
        }
      ]
    },
    {
      "cell_type": "code",
      "metadata": {
        "id": "siySx79orWu0"
      },
      "source": [
        "y_pred = model.predict(X_test)"
      ],
      "execution_count": 50,
      "outputs": []
    },
    {
      "cell_type": "code",
      "metadata": {
        "id": "VZCBWV5mtaLH"
      },
      "source": [
        "y_pred_label = [numpy.argmax(i) for i in y_pred]"
      ],
      "execution_count": 51,
      "outputs": []
    },
    {
      "cell_type": "code",
      "metadata": {
        "colab": {
          "base_uri": "https://localhost:8080/"
        },
        "id": "fW6d-ilCtq0R",
        "outputId": "c0eaed47-0255-4284-f61e-472682b85397"
      },
      "source": [
        "tf.math.confusion_matrix(y_test,y_pred_label)"
      ],
      "execution_count": 52,
      "outputs": [
        {
          "output_type": "execute_result",
          "data": {
            "text/plain": [
              "<tf.Tensor: shape=(10, 10), dtype=int32, numpy=\n",
              "array([[ 974,    2,    0,    0,    0,    0,    1,    2,    1,    0],\n",
              "       [   0, 1131,    0,    1,    0,    1,    1,    1,    0,    0],\n",
              "       [   0,    0, 1020,    0,    1,    0,    0,   10,    1,    0],\n",
              "       [   0,    0,    1, 1002,    0,    3,    0,    2,    2,    0],\n",
              "       [   0,    0,    0,    0,  972,    0,    2,    1,    1,    6],\n",
              "       [   2,    0,    0,    4,    0,  882,    1,    1,    2,    0],\n",
              "       [   2,    2,    0,    0,    1,    3,  947,    0,    3,    0],\n",
              "       [   0,    2,    2,    0,    0,    0,    0, 1023,    1,    0],\n",
              "       [   1,    0,    0,    0,    0,    0,    1,    2,  968,    2],\n",
              "       [   0,    0,    0,    0,    3,    1,    1,    3,    1, 1000]],\n",
              "      dtype=int32)>"
            ]
          },
          "metadata": {},
          "execution_count": 52
        }
      ]
    },
    {
      "cell_type": "code",
      "metadata": {
        "id": "lyH1Bu3wtzre"
      },
      "source": [
        "from PIL import Image\n",
        "from matplotlib import cm"
      ],
      "execution_count": 63,
      "outputs": []
    },
    {
      "cell_type": "code",
      "metadata": {
        "id": "4MR4AsscwFEu"
      },
      "source": [
        "im = Image.fromarray(X_test[[500]].reshape(28,28)*255)"
      ],
      "execution_count": 83,
      "outputs": []
    },
    {
      "cell_type": "code",
      "metadata": {
        "colab": {
          "base_uri": "https://localhost:8080/",
          "height": 282
        },
        "id": "HW-Cx6H3xJE7",
        "outputId": "5b31294b-c181-47ab-ee46-158807faaadf"
      },
      "source": [
        "plt.imshow(im)"
      ],
      "execution_count": 84,
      "outputs": [
        {
          "output_type": "execute_result",
          "data": {
            "text/plain": [
              "<matplotlib.image.AxesImage at 0x7faa76a28e50>"
            ]
          },
          "metadata": {},
          "execution_count": 84
        },
        {
          "output_type": "display_data",
          "data": {
            "image/png": "[encoded data removed]",
            "text/plain": [
              "<Figure size 432x288 with 1 Axes>"
            ]
          },
          "metadata": {
            "needs_background": "light"
          }
        }
      ]
    },
    {
      "cell_type": "code",
      "metadata": {
        "id": "eAoPLEEmx6L4"
      },
      "source": [
        ""
      ],
      "execution_count": null,
      "outputs": []
    }
  ]
}